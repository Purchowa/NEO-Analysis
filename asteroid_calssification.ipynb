{
 "cells": [
  {
   "cell_type": "markdown",
   "metadata": {},
   "source": [
    "# Klasyfikacja asteroid jako zagrażające Ziemii"
   ]
  },
  {
   "cell_type": "code",
   "execution_count": 2,
   "metadata": {},
   "outputs": [],
   "source": [
    "import os\n",
    "from dotenv import load_dotenv\n",
    "from pymongo import MongoClient\n",
    "import pandas as pd\n",
    "\n",
    "load_dotenv()\n",
    "\n",
    "def get_mongo_uri():\n",
    "    uri = os.getenv(\"MONGO_URI\")\n",
    "    if not uri:\n",
    "        raise ValueError(\"MONGO_URI environment variable not set\")\n",
    "    return uri\n",
    "\n",
    "client = MongoClient(get_mongo_uri())\n",
    "db = client[\"NEO-Cluster\"]\n",
    "collection = db[\"asteroids\"]\n",
    "\n",
    "mongoData = collection.find({}, projection=['_id', 'name', 'absolute_magnitude_h', 'estimated_diameter', 'is_potentially_hazardous_asteroid', 'close_approach_data', 'orbital_data.orbit_determination_date'])\n",
    "df_mongo = pd.DataFrame(list(mongoData))\n",
    "\n",
    "client.close()"
   ]
  },
  {
   "cell_type": "markdown",
   "metadata": {},
   "source": [
    "Czyszczenie danych, aby nie zawierały pustych list `close_approach_data`. "
   ]
  },
  {
   "cell_type": "code",
   "execution_count": 11,
   "metadata": {},
   "outputs": [
    {
     "data": {
      "text/html": [
       "<div>\n",
       "<style scoped>\n",
       "    .dataframe tbody tr th:only-of-type {\n",
       "        vertical-align: middle;\n",
       "    }\n",
       "\n",
       "    .dataframe tbody tr th {\n",
       "        vertical-align: top;\n",
       "    }\n",
       "\n",
       "    .dataframe thead th {\n",
       "        text-align: right;\n",
       "    }\n",
       "</style>\n",
       "<table border=\"1\" class=\"dataframe\">\n",
       "  <thead>\n",
       "    <tr style=\"text-align: right;\">\n",
       "      <th></th>\n",
       "      <th>_id</th>\n",
       "      <th>name</th>\n",
       "      <th>absolute_magnitude_h</th>\n",
       "      <th>estimated_diameter</th>\n",
       "      <th>is_potentially_hazardous_asteroid</th>\n",
       "      <th>close_approach_data</th>\n",
       "      <th>orbital_data</th>\n",
       "    </tr>\n",
       "  </thead>\n",
       "  <tbody>\n",
       "    <tr>\n",
       "      <th>0</th>\n",
       "      <td>662eb325d56dd93e65b342fc</td>\n",
       "      <td>433 Eros (A898 PA)</td>\n",
       "      <td>10.41</td>\n",
       "      <td>{'kilometers': {'estimated_diameter_min': 22.0...</td>\n",
       "      <td>False</td>\n",
       "      <td>[{'close_approach_date': '1900-12-27', 'close_...</td>\n",
       "      <td>{'orbit_determination_date': '2021-05-24 17:55...</td>\n",
       "    </tr>\n",
       "    <tr>\n",
       "      <th>1</th>\n",
       "      <td>662eb325d56dd93e65b342fd</td>\n",
       "      <td>719 Albert (A911 TB)</td>\n",
       "      <td>15.59</td>\n",
       "      <td>{'kilometers': {'estimated_diameter_min': 2.02...</td>\n",
       "      <td>False</td>\n",
       "      <td>[{'close_approach_date': '1909-08-21', 'close_...</td>\n",
       "      <td>{'orbit_determination_date': '2024-02-16 05:25...</td>\n",
       "    </tr>\n",
       "    <tr>\n",
       "      <th>2</th>\n",
       "      <td>662eb325d56dd93e65b342fe</td>\n",
       "      <td>887 Alinda (A918 AA)</td>\n",
       "      <td>13.88</td>\n",
       "      <td>{'kilometers': {'estimated_diameter_min': 4.45...</td>\n",
       "      <td>False</td>\n",
       "      <td>[{'close_approach_date': '1910-01-04', 'close_...</td>\n",
       "      <td>{'orbit_determination_date': '2024-01-21 05:18...</td>\n",
       "    </tr>\n",
       "    <tr>\n",
       "      <th>3</th>\n",
       "      <td>662eb325d56dd93e65b342ff</td>\n",
       "      <td>1036 Ganymed (A924 UB)</td>\n",
       "      <td>9.26</td>\n",
       "      <td>{'kilometers': {'estimated_diameter_min': 37.3...</td>\n",
       "      <td>False</td>\n",
       "      <td>[{'close_approach_date': '1910-02-25', 'close_...</td>\n",
       "      <td>{'orbit_determination_date': '2024-04-25 05:47...</td>\n",
       "    </tr>\n",
       "    <tr>\n",
       "      <th>4</th>\n",
       "      <td>662eb325d56dd93e65b34300</td>\n",
       "      <td>1221 Amor (1932 EA1)</td>\n",
       "      <td>17.38</td>\n",
       "      <td>{'kilometers': {'estimated_diameter_min': 0.88...</td>\n",
       "      <td>False</td>\n",
       "      <td>[{'close_approach_date': '1900-03-08', 'close_...</td>\n",
       "      <td>{'orbit_determination_date': '2023-10-12 20:33...</td>\n",
       "    </tr>\n",
       "    <tr>\n",
       "      <th>...</th>\n",
       "      <td>...</td>\n",
       "      <td>...</td>\n",
       "      <td>...</td>\n",
       "      <td>...</td>\n",
       "      <td>...</td>\n",
       "      <td>...</td>\n",
       "      <td>...</td>\n",
       "    </tr>\n",
       "    <tr>\n",
       "      <th>37186</th>\n",
       "      <td>666f4b4ced5abd8b3c8a0586</td>\n",
       "      <td>163902 (2003 SW222)</td>\n",
       "      <td>17.21</td>\n",
       "      <td>{'kilometers': {'estimated_diameter_min': 0.96...</td>\n",
       "      <td>False</td>\n",
       "      <td>[{'close_approach_date': '1913-12-27', 'close_...</td>\n",
       "      <td>{'orbit_determination_date': '2024-06-12 06:19...</td>\n",
       "    </tr>\n",
       "    <tr>\n",
       "      <th>37187</th>\n",
       "      <td>666f4b4ced5abd8b3c8a0587</td>\n",
       "      <td>523637 (2010 LT108)</td>\n",
       "      <td>19.52</td>\n",
       "      <td>{'kilometers': {'estimated_diameter_min': 0.33...</td>\n",
       "      <td>False</td>\n",
       "      <td>[{'close_approach_date': '1905-03-20', 'close_...</td>\n",
       "      <td>{'orbit_determination_date': '2024-06-05 10:14...</td>\n",
       "    </tr>\n",
       "    <tr>\n",
       "      <th>37188</th>\n",
       "      <td>666f4b4fed5abd8b3c8a0588</td>\n",
       "      <td>523661 (2012 LF11)</td>\n",
       "      <td>20.81</td>\n",
       "      <td>{'kilometers': {'estimated_diameter_min': 0.18...</td>\n",
       "      <td>False</td>\n",
       "      <td>[{'close_approach_date': '1900-09-24', 'close_...</td>\n",
       "      <td>{'orbit_determination_date': '2024-06-07 06:20...</td>\n",
       "    </tr>\n",
       "    <tr>\n",
       "      <th>37189</th>\n",
       "      <td>666f4b51ed5abd8b3c8a0589</td>\n",
       "      <td>523796 (2016 LE51)</td>\n",
       "      <td>20.03</td>\n",
       "      <td>{'kilometers': {'estimated_diameter_min': 0.26...</td>\n",
       "      <td>False</td>\n",
       "      <td>[{'close_approach_date': '1905-07-20', 'close_...</td>\n",
       "      <td>{'orbit_determination_date': '2024-06-14 06:20...</td>\n",
       "    </tr>\n",
       "    <tr>\n",
       "      <th>37190</th>\n",
       "      <td>666f4b52ed5abd8b3c8a058a</td>\n",
       "      <td>380455 (2003 UL3)</td>\n",
       "      <td>17.81</td>\n",
       "      <td>{'kilometers': {'estimated_diameter_min': 0.72...</td>\n",
       "      <td>False</td>\n",
       "      <td>[{'close_approach_date': '1909-11-17', 'close_...</td>\n",
       "      <td>{'orbit_determination_date': '2024-06-15 06:19...</td>\n",
       "    </tr>\n",
       "  </tbody>\n",
       "</table>\n",
       "<p>36413 rows × 7 columns</p>\n",
       "</div>"
      ],
      "text/plain": [
       "                            _id                    name  absolute_magnitude_h  \\\n",
       "0      662eb325d56dd93e65b342fc      433 Eros (A898 PA)                 10.41   \n",
       "1      662eb325d56dd93e65b342fd    719 Albert (A911 TB)                 15.59   \n",
       "2      662eb325d56dd93e65b342fe    887 Alinda (A918 AA)                 13.88   \n",
       "3      662eb325d56dd93e65b342ff  1036 Ganymed (A924 UB)                  9.26   \n",
       "4      662eb325d56dd93e65b34300    1221 Amor (1932 EA1)                 17.38   \n",
       "...                         ...                     ...                   ...   \n",
       "37186  666f4b4ced5abd8b3c8a0586     163902 (2003 SW222)                 17.21   \n",
       "37187  666f4b4ced5abd8b3c8a0587     523637 (2010 LT108)                 19.52   \n",
       "37188  666f4b4fed5abd8b3c8a0588      523661 (2012 LF11)                 20.81   \n",
       "37189  666f4b51ed5abd8b3c8a0589      523796 (2016 LE51)                 20.03   \n",
       "37190  666f4b52ed5abd8b3c8a058a       380455 (2003 UL3)                 17.81   \n",
       "\n",
       "                                      estimated_diameter  \\\n",
       "0      {'kilometers': {'estimated_diameter_min': 22.0...   \n",
       "1      {'kilometers': {'estimated_diameter_min': 2.02...   \n",
       "2      {'kilometers': {'estimated_diameter_min': 4.45...   \n",
       "3      {'kilometers': {'estimated_diameter_min': 37.3...   \n",
       "4      {'kilometers': {'estimated_diameter_min': 0.88...   \n",
       "...                                                  ...   \n",
       "37186  {'kilometers': {'estimated_diameter_min': 0.96...   \n",
       "37187  {'kilometers': {'estimated_diameter_min': 0.33...   \n",
       "37188  {'kilometers': {'estimated_diameter_min': 0.18...   \n",
       "37189  {'kilometers': {'estimated_diameter_min': 0.26...   \n",
       "37190  {'kilometers': {'estimated_diameter_min': 0.72...   \n",
       "\n",
       "       is_potentially_hazardous_asteroid  \\\n",
       "0                                  False   \n",
       "1                                  False   \n",
       "2                                  False   \n",
       "3                                  False   \n",
       "4                                  False   \n",
       "...                                  ...   \n",
       "37186                              False   \n",
       "37187                              False   \n",
       "37188                              False   \n",
       "37189                              False   \n",
       "37190                              False   \n",
       "\n",
       "                                     close_approach_data  \\\n",
       "0      [{'close_approach_date': '1900-12-27', 'close_...   \n",
       "1      [{'close_approach_date': '1909-08-21', 'close_...   \n",
       "2      [{'close_approach_date': '1910-01-04', 'close_...   \n",
       "3      [{'close_approach_date': '1910-02-25', 'close_...   \n",
       "4      [{'close_approach_date': '1900-03-08', 'close_...   \n",
       "...                                                  ...   \n",
       "37186  [{'close_approach_date': '1913-12-27', 'close_...   \n",
       "37187  [{'close_approach_date': '1905-03-20', 'close_...   \n",
       "37188  [{'close_approach_date': '1900-09-24', 'close_...   \n",
       "37189  [{'close_approach_date': '1905-07-20', 'close_...   \n",
       "37190  [{'close_approach_date': '1909-11-17', 'close_...   \n",
       "\n",
       "                                            orbital_data  \n",
       "0      {'orbit_determination_date': '2021-05-24 17:55...  \n",
       "1      {'orbit_determination_date': '2024-02-16 05:25...  \n",
       "2      {'orbit_determination_date': '2024-01-21 05:18...  \n",
       "3      {'orbit_determination_date': '2024-04-25 05:47...  \n",
       "4      {'orbit_determination_date': '2023-10-12 20:33...  \n",
       "...                                                  ...  \n",
       "37186  {'orbit_determination_date': '2024-06-12 06:19...  \n",
       "37187  {'orbit_determination_date': '2024-06-05 10:14...  \n",
       "37188  {'orbit_determination_date': '2024-06-07 06:20...  \n",
       "37189  {'orbit_determination_date': '2024-06-14 06:20...  \n",
       "37190  {'orbit_determination_date': '2024-06-15 06:19...  \n",
       "\n",
       "[36413 rows x 7 columns]"
      ]
     },
     "execution_count": 11,
     "metadata": {},
     "output_type": "execute_result"
    }
   ],
   "source": [
    "import seaborn as sns\n",
    "from matplotlib import pyplot as plt\n",
    "\n",
    "df_cleaned = df_mongo[df_mongo['close_approach_data'].apply(lambda x: len(x) != 0)].dropna()\n",
    "df_cleaned"
   ]
  },
  {
   "cell_type": "markdown",
   "metadata": {},
   "source": [
    "Przetwarzanie danych: wyciąganie średniej wartości średnicy asteroidy w kilometrach."
   ]
  },
  {
   "cell_type": "code",
   "execution_count": 12,
   "metadata": {},
   "outputs": [
    {
     "data": {
      "text/plain": [
       "True"
      ]
     },
     "execution_count": 12,
     "metadata": {},
     "output_type": "execute_result"
    }
   ],
   "source": [
    "\n",
    "\n",
    "mean_diameters_km = [ (diam['kilometers']['estimated_diameter_min'] + diam['kilometers']['estimated_diameter_max']) / 2.0 for diam in df_cleaned['estimated_diameter']]\n",
    "\n",
    "# Test\n",
    "mean_diameters_km[0] == (df_cleaned['estimated_diameter'][0]['kilometers']['estimated_diameter_min'] + df_cleaned['estimated_diameter'][0]['kilometers']['estimated_diameter_max']) / 2.0"
   ]
  },
  {
   "cell_type": "markdown",
   "metadata": {},
   "source": [
    "Wyszukiwanie starszej, ale najbliższej `close_approach_date` do `orbit_determination_date`. Jest to konieczne gdyż `orbit_determination_date` najprawdopodobniej odnosi się do tego konkretnego `close_approach_data`."
   ]
  },
  {
   "cell_type": "code",
   "execution_count": 13,
   "metadata": {},
   "outputs": [],
   "source": [
    "import numpy as np\n",
    "\n",
    "closest_approach_objs = []\n",
    "for close_approach_array, orbital_data in zip(df_cleaned['close_approach_data'], df_cleaned['orbital_data']):\n",
    "    close_approach_dates = [item['close_approach_date'] for item in close_approach_array]\n",
    "    determination_date = orbital_data['orbit_determination_date']\n",
    "    closest_approach_date_position = np.searchsorted(close_approach_dates, determination_date, side='left')\n",
    "    closest_approach_objs.append(close_approach_array[closest_approach_date_position-1])\n",
    "\n",
    "km_per_second = [ data['relative_velocity']['kilometers_per_second'] for data in closest_approach_objs ]\n",
    "miss_distance_km = [ data['miss_distance']['kilometers'] for data in closest_approach_objs ]"
   ]
  },
  {
   "cell_type": "code",
   "execution_count": 14,
   "metadata": {},
   "outputs": [
    {
     "name": "stdout",
     "output_type": "stream",
     "text": [
      "<class 'pandas.core.frame.DataFrame'>\n",
      "Index: 36413 entries, 0 to 37190\n",
      "Data columns (total 6 columns):\n",
      " #   Column                  Non-Null Count  Dtype  \n",
      "---  ------                  --------------  -----  \n",
      " 0   name                    36413 non-null  object \n",
      " 1   absolute_magnitude      36413 non-null  float64\n",
      " 2   mean_diameter_km        36413 non-null  float64\n",
      " 3   relative_velocity_km_s  36413 non-null  float64\n",
      " 4   miss_distance_km        36413 non-null  float64\n",
      " 5   is_hazardous            36413 non-null  bool   \n",
      "dtypes: bool(1), float64(4), object(1)\n",
      "memory usage: 2.7+ MB\n"
     ]
    },
    {
     "data": {
      "text/html": [
       "<div>\n",
       "<style scoped>\n",
       "    .dataframe tbody tr th:only-of-type {\n",
       "        vertical-align: middle;\n",
       "    }\n",
       "\n",
       "    .dataframe tbody tr th {\n",
       "        vertical-align: top;\n",
       "    }\n",
       "\n",
       "    .dataframe thead th {\n",
       "        text-align: right;\n",
       "    }\n",
       "</style>\n",
       "<table border=\"1\" class=\"dataframe\">\n",
       "  <thead>\n",
       "    <tr style=\"text-align: right;\">\n",
       "      <th></th>\n",
       "      <th>name</th>\n",
       "      <th>absolute_magnitude</th>\n",
       "      <th>mean_diameter_km</th>\n",
       "      <th>relative_velocity_km_s</th>\n",
       "      <th>miss_distance_km</th>\n",
       "      <th>is_hazardous</th>\n",
       "    </tr>\n",
       "  </thead>\n",
       "  <tbody>\n",
       "    <tr>\n",
       "      <th>0</th>\n",
       "      <td>433 Eros (A898 PA)</td>\n",
       "      <td>10.41</td>\n",
       "      <td>35.607593</td>\n",
       "      <td>6.044918</td>\n",
       "      <td>3.120592e+07</td>\n",
       "      <td>False</td>\n",
       "    </tr>\n",
       "    <tr>\n",
       "      <th>1</th>\n",
       "      <td>719 Albert (A911 TB)</td>\n",
       "      <td>15.59</td>\n",
       "      <td>3.277499</td>\n",
       "      <td>3.724128</td>\n",
       "      <td>2.223920e+08</td>\n",
       "      <td>False</td>\n",
       "    </tr>\n",
       "    <tr>\n",
       "      <th>2</th>\n",
       "      <td>887 Alinda (A918 AA)</td>\n",
       "      <td>13.88</td>\n",
       "      <td>7.203484</td>\n",
       "      <td>11.662202</td>\n",
       "      <td>5.055901e+07</td>\n",
       "      <td>False</td>\n",
       "    </tr>\n",
       "    <tr>\n",
       "      <th>3</th>\n",
       "      <td>1036 Ganymed (A924 UB)</td>\n",
       "      <td>9.26</td>\n",
       "      <td>60.470369</td>\n",
       "      <td>14.304702</td>\n",
       "      <td>5.372123e+07</td>\n",
       "      <td>False</td>\n",
       "    </tr>\n",
       "    <tr>\n",
       "      <th>4</th>\n",
       "      <td>1221 Amor (1932 EA1)</td>\n",
       "      <td>17.38</td>\n",
       "      <td>1.437284</td>\n",
       "      <td>15.600596</td>\n",
       "      <td>5.505391e+07</td>\n",
       "      <td>False</td>\n",
       "    </tr>\n",
       "    <tr>\n",
       "      <th>...</th>\n",
       "      <td>...</td>\n",
       "      <td>...</td>\n",
       "      <td>...</td>\n",
       "      <td>...</td>\n",
       "      <td>...</td>\n",
       "      <td>...</td>\n",
       "    </tr>\n",
       "    <tr>\n",
       "      <th>37186</th>\n",
       "      <td>163902 (2003 SW222)</td>\n",
       "      <td>17.21</td>\n",
       "      <td>1.554328</td>\n",
       "      <td>8.477422</td>\n",
       "      <td>4.285204e+07</td>\n",
       "      <td>False</td>\n",
       "    </tr>\n",
       "    <tr>\n",
       "      <th>37187</th>\n",
       "      <td>523637 (2010 LT108)</td>\n",
       "      <td>19.52</td>\n",
       "      <td>0.536467</td>\n",
       "      <td>20.040668</td>\n",
       "      <td>2.568349e+07</td>\n",
       "      <td>False</td>\n",
       "    </tr>\n",
       "    <tr>\n",
       "      <th>37188</th>\n",
       "      <td>523661 (2012 LF11)</td>\n",
       "      <td>20.81</td>\n",
       "      <td>0.296171</td>\n",
       "      <td>20.963655</td>\n",
       "      <td>3.537093e+07</td>\n",
       "      <td>False</td>\n",
       "    </tr>\n",
       "    <tr>\n",
       "      <th>37189</th>\n",
       "      <td>523796 (2016 LE51)</td>\n",
       "      <td>20.03</td>\n",
       "      <td>0.424173</td>\n",
       "      <td>21.622387</td>\n",
       "      <td>4.561614e+07</td>\n",
       "      <td>False</td>\n",
       "    </tr>\n",
       "    <tr>\n",
       "      <th>37190</th>\n",
       "      <td>380455 (2003 UL3)</td>\n",
       "      <td>17.81</td>\n",
       "      <td>1.179078</td>\n",
       "      <td>20.650158</td>\n",
       "      <td>4.178910e+07</td>\n",
       "      <td>False</td>\n",
       "    </tr>\n",
       "  </tbody>\n",
       "</table>\n",
       "<p>36413 rows × 6 columns</p>\n",
       "</div>"
      ],
      "text/plain": [
       "                         name  absolute_magnitude  mean_diameter_km  \\\n",
       "0          433 Eros (A898 PA)               10.41         35.607593   \n",
       "1        719 Albert (A911 TB)               15.59          3.277499   \n",
       "2        887 Alinda (A918 AA)               13.88          7.203484   \n",
       "3      1036 Ganymed (A924 UB)                9.26         60.470369   \n",
       "4        1221 Amor (1932 EA1)               17.38          1.437284   \n",
       "...                       ...                 ...               ...   \n",
       "37186     163902 (2003 SW222)               17.21          1.554328   \n",
       "37187     523637 (2010 LT108)               19.52          0.536467   \n",
       "37188      523661 (2012 LF11)               20.81          0.296171   \n",
       "37189      523796 (2016 LE51)               20.03          0.424173   \n",
       "37190       380455 (2003 UL3)               17.81          1.179078   \n",
       "\n",
       "       relative_velocity_km_s  miss_distance_km  is_hazardous  \n",
       "0                    6.044918      3.120592e+07         False  \n",
       "1                    3.724128      2.223920e+08         False  \n",
       "2                   11.662202      5.055901e+07         False  \n",
       "3                   14.304702      5.372123e+07         False  \n",
       "4                   15.600596      5.505391e+07         False  \n",
       "...                       ...               ...           ...  \n",
       "37186                8.477422      4.285204e+07         False  \n",
       "37187               20.040668      2.568349e+07         False  \n",
       "37188               20.963655      3.537093e+07         False  \n",
       "37189               21.622387      4.561614e+07         False  \n",
       "37190               20.650158      4.178910e+07         False  \n",
       "\n",
       "[36413 rows x 6 columns]"
      ]
     },
     "execution_count": 14,
     "metadata": {},
     "output_type": "execute_result"
    }
   ],
   "source": [
    "asteroid_df_column_names = ['name', 'absolute_magnitude', 'mean_diameter_km', 'relative_velocity_km_s', 'miss_distance_km', 'is_hazardous']\n",
    "asteroid_df_column_values = [df_cleaned['name'], df_cleaned['absolute_magnitude_h'], mean_diameters_km, pd.to_numeric(km_per_second), pd.to_numeric(miss_distance_km), df_cleaned['is_potentially_hazardous_asteroid']]\n",
    "\n",
    "asteroid_df = pd.DataFrame(data=dict(zip(asteroid_df_column_names, asteroid_df_column_values)))\n",
    "asteroid_df.info()\n",
    "asteroid_df"
   ]
  },
  {
   "cell_type": "code",
   "execution_count": 15,
   "metadata": {},
   "outputs": [
    {
     "data": {
      "text/html": [
       "<div>\n",
       "<style scoped>\n",
       "    .dataframe tbody tr th:only-of-type {\n",
       "        vertical-align: middle;\n",
       "    }\n",
       "\n",
       "    .dataframe tbody tr th {\n",
       "        vertical-align: top;\n",
       "    }\n",
       "\n",
       "    .dataframe thead th {\n",
       "        text-align: right;\n",
       "    }\n",
       "</style>\n",
       "<table border=\"1\" class=\"dataframe\">\n",
       "  <thead>\n",
       "    <tr style=\"text-align: right;\">\n",
       "      <th></th>\n",
       "      <th>absolute_magnitude</th>\n",
       "      <th>mean_diameter_km</th>\n",
       "      <th>relative_velocity_km_s</th>\n",
       "      <th>miss_distance_km</th>\n",
       "      <th>is_hazardous</th>\n",
       "    </tr>\n",
       "  </thead>\n",
       "  <tbody>\n",
       "    <tr>\n",
       "      <th>absolute_magnitude</th>\n",
       "      <td>1.000000</td>\n",
       "      <td>-0.506376</td>\n",
       "      <td>-0.313832</td>\n",
       "      <td>-0.414415</td>\n",
       "      <td>-0.307193</td>\n",
       "    </tr>\n",
       "    <tr>\n",
       "      <th>mean_diameter_km</th>\n",
       "      <td>-0.506376</td>\n",
       "      <td>1.000000</td>\n",
       "      <td>0.160111</td>\n",
       "      <td>0.199949</td>\n",
       "      <td>0.120910</td>\n",
       "    </tr>\n",
       "    <tr>\n",
       "      <th>relative_velocity_km_s</th>\n",
       "      <td>-0.313832</td>\n",
       "      <td>0.160111</td>\n",
       "      <td>1.000000</td>\n",
       "      <td>-0.001967</td>\n",
       "      <td>0.203725</td>\n",
       "    </tr>\n",
       "    <tr>\n",
       "      <th>miss_distance_km</th>\n",
       "      <td>-0.414415</td>\n",
       "      <td>0.199949</td>\n",
       "      <td>-0.001967</td>\n",
       "      <td>1.000000</td>\n",
       "      <td>0.081395</td>\n",
       "    </tr>\n",
       "    <tr>\n",
       "      <th>is_hazardous</th>\n",
       "      <td>-0.307193</td>\n",
       "      <td>0.120910</td>\n",
       "      <td>0.203725</td>\n",
       "      <td>0.081395</td>\n",
       "      <td>1.000000</td>\n",
       "    </tr>\n",
       "  </tbody>\n",
       "</table>\n",
       "</div>"
      ],
      "text/plain": [
       "                        absolute_magnitude  mean_diameter_km  \\\n",
       "absolute_magnitude                1.000000         -0.506376   \n",
       "mean_diameter_km                 -0.506376          1.000000   \n",
       "relative_velocity_km_s           -0.313832          0.160111   \n",
       "miss_distance_km                 -0.414415          0.199949   \n",
       "is_hazardous                     -0.307193          0.120910   \n",
       "\n",
       "                        relative_velocity_km_s  miss_distance_km  is_hazardous  \n",
       "absolute_magnitude                   -0.313832         -0.414415     -0.307193  \n",
       "mean_diameter_km                      0.160111          0.199949      0.120910  \n",
       "relative_velocity_km_s                1.000000         -0.001967      0.203725  \n",
       "miss_distance_km                     -0.001967          1.000000      0.081395  \n",
       "is_hazardous                          0.203725          0.081395      1.000000  "
      ]
     },
     "execution_count": 15,
     "metadata": {},
     "output_type": "execute_result"
    }
   ],
   "source": [
    "asteroid_df.corr(numeric_only=True)"
   ]
  },
  {
   "cell_type": "markdown",
   "metadata": {},
   "source": [
    "## Eksploracja danych"
   ]
  },
  {
   "cell_type": "code",
   "execution_count": 16,
   "metadata": {},
   "outputs": [
    {
     "data": {
      "image/png": "[encoded data removed]",
      "text/plain": [
       "<Figure size 640x480 with 1 Axes>"
      ]
     },
     "metadata": {},
     "output_type": "display_data"
    }
   ],
   "source": [
    "sns.boxenplot(x='is_hazardous', y='mean_diameter_km',data=asteroid_df)\n",
    "plt.show()"
   ]
  },
  {
   "cell_type": "code",
   "execution_count": 17,
   "metadata": {},
   "outputs": [
    {
     "data": {
      "text/plain": [
       "<seaborn.axisgrid.FacetGrid at 0x2248051afd0>"
      ]
     },
     "execution_count": 17,
     "metadata": {},
     "output_type": "execute_result"
    },
    {
     "data": {
      "image/png": "[encoded data removed]",
      "text/plain": [
       "<Figure size 500x500 with 1 Axes>"
      ]
     },
     "metadata": {},
     "output_type": "display_data"
    }
   ],
   "source": [
    "sns.displot(asteroid_df['relative_velocity_km_s'])"
   ]
  },
  {
   "cell_type": "code",
   "execution_count": 18,
   "metadata": {},
   "outputs": [
    {
     "data": {
      "image/png": "[encoded data removed]",
      "text/plain": [
       "<Figure size 640x480 with 1 Axes>"
      ]
     },
     "metadata": {},
     "output_type": "display_data"
    }
   ],
   "source": [
    "sns.boxenplot(x='is_hazardous', y='relative_velocity_km_s',data=asteroid_df)\n",
    "plt.show()"
   ]
  },
  {
   "cell_type": "markdown",
   "metadata": {},
   "source": [
    "Obiekty zagrażające Ziemii średnio mają większą prędkość i są większe."
   ]
  },
  {
   "cell_type": "code",
   "execution_count": 19,
   "metadata": {},
   "outputs": [
    {
     "data": {
      "image/png": "[encoded data removed]",
      "text/plain": [
       "<Figure size 640x480 with 1 Axes>"
      ]
     },
     "metadata": {},
     "output_type": "display_data"
    }
   ],
   "source": [
    "sns.boxenplot(x='is_hazardous', y='absolute_magnitude',data=asteroid_df)\n",
    "plt.show()"
   ]
  },
  {
   "cell_type": "markdown",
   "metadata": {},
   "source": [
    "Obiekty zagrażające Ziemii na ogół mają wyższą moc promieniowania (jasność)."
   ]
  },
  {
   "cell_type": "code",
   "execution_count": 20,
   "metadata": {},
   "outputs": [
    {
     "data": {
      "image/png": "[encoded data removed]",
      "text/plain": [
       "<Figure size 640x480 with 1 Axes>"
      ]
     },
     "metadata": {},
     "output_type": "display_data"
    }
   ],
   "source": [
    "hazardous_plot = sns.countplot(x='is_hazardous', data=asteroid_df)\n",
    "hazardous_plot.bar_label(hazardous_plot.containers[0])\n",
    "plt.show()"
   ]
  },
  {
   "cell_type": "markdown",
   "metadata": {},
   "source": [
    "Zbiór jest nienajlepiej zbalansowany pod względem `is_hazardous`, który to będzie celem uczenia. Powodem niezbalansowania może być mniejsza ogólna moc promieniowania wykryta we wcześniejszej analizie."
   ]
  },
  {
   "cell_type": "markdown",
   "metadata": {},
   "source": [
    "## Modelowanie"
   ]
  },
  {
   "cell_type": "code",
   "execution_count": 35,
   "metadata": {},
   "outputs": [
    {
     "data": {
      "text/plain": [
       "((29130, 4), (29130,), (7283, 4), (7283,))"
      ]
     },
     "execution_count": 35,
     "metadata": {},
     "output_type": "execute_result"
    }
   ],
   "source": [
    "from sklearn.model_selection import train_test_split\n",
    "from sklearn.metrics import classification_report, confusion_matrix, ConfusionMatrixDisplay\n",
    "\n",
    "x_train, x_test, y_train, y_test = train_test_split(asteroid_df.drop(columns=['name', 'is_hazardous']), asteroid_df['is_hazardous'], test_size=0.2)\n",
    "\n",
    "x_train.shape,y_train.shape,x_test.shape,y_test.shape"
   ]
  },
  {
   "cell_type": "code",
   "execution_count": 36,
   "metadata": {},
   "outputs": [],
   "source": [
    "def model_validation(y_test, y_predicted):\n",
    "    print('Classification report\\n', classification_report(y_test, y_predicted))\n",
    "    conf_matrix = confusion_matrix(y_test, y_predicted)\n",
    "    ConfusionMatrixDisplay(conf_matrix).plot()\n",
    "    plt.show()"
   ]
  },
  {
   "cell_type": "code",
   "execution_count": 46,
   "metadata": {},
   "outputs": [
    {
     "name": "stdout",
     "output_type": "stream",
     "text": [
      "[LightGBM] [Info] Number of positive: 2171, number of negative: 26959\n",
      "[LightGBM] [Info] Auto-choosing row-wise multi-threading, the overhead of testing was 0.000158 seconds.\n",
      "You can set `force_row_wise=true` to remove the overhead.\n",
      "And if memory is not enough, you can set `force_col_wise=true`.\n",
      "[LightGBM] [Info] Total Bins 1020\n",
      "[LightGBM] [Info] Number of data points in the train set: 29130, number of used features: 4\n",
      "[LightGBM] [Info] [binary:BoostFromScore]: pavg=0.074528 -> initscore=-2.519129\n",
      "[LightGBM] [Info] Start training from score -2.519129\n",
      "Classification report\n",
      "               precision    recall  f1-score   support\n",
      "\n",
      "       False       0.99      0.82      0.90      6725\n",
      "        True       0.29      0.89      0.44       558\n",
      "\n",
      "    accuracy                           0.83      7283\n",
      "   macro avg       0.64      0.85      0.67      7283\n",
      "weighted avg       0.94      0.83      0.86      7283\n",
      "\n"
     ]
    },
    {
     "data": {
      "image/png": "[encoded data removed]",
      "text/plain": [
       "<Figure size 640x480 with 2 Axes>"
      ]
     },
     "metadata": {},
     "output_type": "display_data"
    }
   ],
   "source": [
    "from lightgbm import LGBMClassifier\n",
    "\n",
    "lgbm = LGBMClassifier(is_unbalance=True)\n",
    "lgbm_model = lgbm.fit(x_train, y_train)\n",
    "y_pred = lgbm_model.predict(x_test)\n",
    "\n",
    "model_validation(y_test, y_pred)"
   ]
  },
  {
   "cell_type": "markdown",
   "metadata": {},
   "source": [
    "LGBM korzysta z Gradient Boosted Trees.\n",
    "Parametr `is_unbalance=True` dla klasyfikacji binarnej informuje algorytm, że zbiór danych uczących jest niezbalansowany, a konkretnie ilość danych dla konkretnych klas. Powoduje to wyliczenie odpowiednich wag dla dwóch klasy: asteroid zagrających Ziemii oraz asteroid nie zagrażających Ziemii.\n",
    "Model był optymalizowany tak, aby mieć jak najlepszą czułość, czyli najwyższe prawdopodobieństwo, iż asteroida zagrażająca Ziemii zostanie rzeczywiście sklasyfikowana jako zagrażająca Ziemi. Minimalizacja przypadków `False Negative`. Powoduje to ogólny spadek trafności, ale jest to nieuniknione ze względu na niezbalansowaną ilość danych dla klas.\n",
    "Lepiej jest mieć więcej fałszywych alarmów niż koniec świata..."
   ]
  }
 ],
 "metadata": {
  "kernelspec": {
   "display_name": ".venv",
   "language": "python",
   "name": "python3"
  },
  "language_info": {
   "codemirror_mode": {
    "name": "ipython",
    "version": 3
   },
   "file_extension": ".py",
   "mimetype": "text/x-python",
   "name": "python",
   "nbconvert_exporter": "python",
   "pygments_lexer": "ipython3",
   "version": "3.11.9"
  }
 },
 "nbformat": 4,
 "nbformat_minor": 2
}
